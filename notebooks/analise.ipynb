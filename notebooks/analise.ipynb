{
 "cells": [
  {
   "cell_type": "markdown",
   "id": "8cf8a7a4",
   "metadata": {},
   "source": [
    "# Tópico 03 – Análise Exploratória de Dados (EDA)"
   ]
  },
  {
   "cell_type": "code",
   "execution_count": 12,
   "id": "c25dcc10",
   "metadata": {},
   "outputs": [],
   "source": [
    "import pandas as pd\n",
    "import seaborn"
   ]
  },
  {
   "cell_type": "code",
   "execution_count": 13,
   "id": "549f442a",
   "metadata": {},
   "outputs": [
    {
     "name": "stdout",
     "output_type": "stream",
     "text": [
      "<class 'pandas.core.frame.DataFrame'>\n",
      "RangeIndex: 100 entries, 0 to 99\n",
      "Data columns (total 6 columns):\n",
      " #   Column          Non-Null Count  Dtype \n",
      "---  ------          --------------  ----- \n",
      " 0   Data_Venda      100 non-null    object\n",
      " 1   Produto         100 non-null    object\n",
      " 2   Cidade          100 non-null    object\n",
      " 3   Quantidade      100 non-null    int64 \n",
      " 4   Preco_Unitario  100 non-null    int64 \n",
      " 5   Valor_Total     100 non-null    int64 \n",
      "dtypes: int64(3), object(3)\n",
      "memory usage: 4.8+ KB\n"
     ]
    }
   ],
   "source": [
    "df = pd.read_csv('../data/dados_vendas_limpo.csv', sep=',')\n",
    "df.info()"
   ]
  },
  {
   "cell_type": "code",
   "execution_count": 14,
   "id": "e6604d0d",
   "metadata": {},
   "outputs": [],
   "source": [
    "df['Data_Venda'] = pd.to_datetime(df['Data_Venda'])\n",
    "df['Preco_Unitario'] = df['Preco_Unitario'].astype('float')\n",
    "df['Valor_Total'] = df['Valor_Total'].astype('float')"
   ]
  },
  {
   "cell_type": "code",
   "execution_count": 15,
   "id": "803c7c54",
   "metadata": {},
   "outputs": [
    {
     "name": "stdout",
     "output_type": "stream",
     "text": [
      "<class 'pandas.core.frame.DataFrame'>\n",
      "RangeIndex: 100 entries, 0 to 99\n",
      "Data columns (total 6 columns):\n",
      " #   Column          Non-Null Count  Dtype         \n",
      "---  ------          --------------  -----         \n",
      " 0   Data_Venda      100 non-null    datetime64[ns]\n",
      " 1   Produto         100 non-null    object        \n",
      " 2   Cidade          100 non-null    object        \n",
      " 3   Quantidade      100 non-null    int64         \n",
      " 4   Preco_Unitario  100 non-null    float64       \n",
      " 5   Valor_Total     100 non-null    float64       \n",
      "dtypes: datetime64[ns](1), float64(2), int64(1), object(2)\n",
      "memory usage: 4.8+ KB\n"
     ]
    }
   ],
   "source": [
    "df.info()"
   ]
  }
 ],
 "metadata": {
  "kernelspec": {
   "display_name": "Python 3",
   "language": "python",
   "name": "python3"
  },
  "language_info": {
   "codemirror_mode": {
    "name": "ipython",
    "version": 3
   },
   "file_extension": ".py",
   "mimetype": "text/x-python",
   "name": "python",
   "nbconvert_exporter": "python",
   "pygments_lexer": "ipython3",
   "version": "3.13.5"
  }
 },
 "nbformat": 4,
 "nbformat_minor": 5
}
