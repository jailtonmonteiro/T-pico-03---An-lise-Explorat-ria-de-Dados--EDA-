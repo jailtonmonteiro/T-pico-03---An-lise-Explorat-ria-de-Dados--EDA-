{
 "cells": [
  {
   "cell_type": "markdown",
   "id": "8cf8a7a4",
   "metadata": {},
   "source": [
    "# Tópico 03 – Análise Exploratória de Dados (EDA)"
   ]
  },
  {
   "cell_type": "code",
   "execution_count": 70,
   "id": "c25dcc10",
   "metadata": {},
   "outputs": [],
   "source": [
    "import pandas as pd\n",
    "import seaborn"
   ]
  },
  {
   "cell_type": "code",
   "execution_count": 71,
   "id": "549f442a",
   "metadata": {},
   "outputs": [
    {
     "name": "stdout",
     "output_type": "stream",
     "text": [
      "<class 'pandas.core.frame.DataFrame'>\n",
      "RangeIndex: 100 entries, 0 to 99\n",
      "Data columns (total 6 columns):\n",
      " #   Column          Non-Null Count  Dtype \n",
      "---  ------          --------------  ----- \n",
      " 0   Data_Venda      100 non-null    object\n",
      " 1   Produto         100 non-null    object\n",
      " 2   Cidade          100 non-null    object\n",
      " 3   Quantidade      100 non-null    int64 \n",
      " 4   Preco_Unitario  100 non-null    int64 \n",
      " 5   Valor_Total     100 non-null    int64 \n",
      "dtypes: int64(3), object(3)\n",
      "memory usage: 4.8+ KB\n"
     ]
    }
   ],
   "source": [
    "df = pd.read_csv('../data/dados_vendas_limpo.csv', sep=',')\n",
    "df.info()"
   ]
  },
  {
   "cell_type": "code",
   "execution_count": 72,
   "id": "e6604d0d",
   "metadata": {},
   "outputs": [],
   "source": [
    "df['Data_Venda'] = pd.to_datetime(df['Data_Venda'])\n",
    "df['Data_Venda'] = df['Data_Venda'].dt.date\n",
    "df['Preco_Unitario'] = df['Preco_Unitario'].astype('float')\n",
    "df['Valor_Total'] = df['Valor_Total'].astype('float')"
   ]
  },
  {
   "cell_type": "code",
   "execution_count": 73,
   "id": "803c7c54",
   "metadata": {},
   "outputs": [
    {
     "name": "stdout",
     "output_type": "stream",
     "text": [
      "<class 'pandas.core.frame.DataFrame'>\n",
      "RangeIndex: 100 entries, 0 to 99\n",
      "Data columns (total 6 columns):\n",
      " #   Column          Non-Null Count  Dtype  \n",
      "---  ------          --------------  -----  \n",
      " 0   Data_Venda      100 non-null    object \n",
      " 1   Produto         100 non-null    object \n",
      " 2   Cidade          100 non-null    object \n",
      " 3   Quantidade      100 non-null    int64  \n",
      " 4   Preco_Unitario  100 non-null    float64\n",
      " 5   Valor_Total     100 non-null    float64\n",
      "dtypes: float64(2), int64(1), object(3)\n",
      "memory usage: 4.8+ KB\n"
     ]
    }
   ],
   "source": [
    "df.info()"
   ]
  },
  {
   "cell_type": "code",
   "execution_count": 74,
   "id": "9a769cea",
   "metadata": {},
   "outputs": [
    {
     "data": {
      "text/html": [
       "<div>\n",
       "<style scoped>\n",
       "    .dataframe tbody tr th:only-of-type {\n",
       "        vertical-align: middle;\n",
       "    }\n",
       "\n",
       "    .dataframe tbody tr th {\n",
       "        vertical-align: top;\n",
       "    }\n",
       "\n",
       "    .dataframe thead th {\n",
       "        text-align: right;\n",
       "    }\n",
       "</style>\n",
       "<table border=\"1\" class=\"dataframe\">\n",
       "  <thead>\n",
       "    <tr style=\"text-align: right;\">\n",
       "      <th></th>\n",
       "      <th>Data_Venda</th>\n",
       "      <th>Produto</th>\n",
       "      <th>Cidade</th>\n",
       "      <th>Quantidade</th>\n",
       "      <th>Preco_Unitario</th>\n",
       "      <th>Valor_Total</th>\n",
       "    </tr>\n",
       "  </thead>\n",
       "  <tbody>\n",
       "    <tr>\n",
       "      <th>0</th>\n",
       "      <td>2024-01-01</td>\n",
       "      <td>Mouse</td>\n",
       "      <td>Salvador</td>\n",
       "      <td>2</td>\n",
       "      <td>2897.0</td>\n",
       "      <td>5794.0</td>\n",
       "    </tr>\n",
       "    <tr>\n",
       "      <th>1</th>\n",
       "      <td>2024-01-02</td>\n",
       "      <td>Impressora</td>\n",
       "      <td>São Paulo</td>\n",
       "      <td>2</td>\n",
       "      <td>1793.0</td>\n",
       "      <td>3586.0</td>\n",
       "    </tr>\n",
       "    <tr>\n",
       "      <th>2</th>\n",
       "      <td>2024-01-03</td>\n",
       "      <td>Teclado</td>\n",
       "      <td>São Paulo</td>\n",
       "      <td>6</td>\n",
       "      <td>2185.0</td>\n",
       "      <td>13110.0</td>\n",
       "    </tr>\n",
       "    <tr>\n",
       "      <th>3</th>\n",
       "      <td>2024-01-04</td>\n",
       "      <td>Impressora</td>\n",
       "      <td>São Paulo</td>\n",
       "      <td>7</td>\n",
       "      <td>2377.0</td>\n",
       "      <td>16639.0</td>\n",
       "    </tr>\n",
       "    <tr>\n",
       "      <th>4</th>\n",
       "      <td>2024-01-05</td>\n",
       "      <td>Impressora</td>\n",
       "      <td>São Paulo</td>\n",
       "      <td>5</td>\n",
       "      <td>662.0</td>\n",
       "      <td>3310.0</td>\n",
       "    </tr>\n",
       "  </tbody>\n",
       "</table>\n",
       "</div>"
      ],
      "text/plain": [
       "   Data_Venda     Produto     Cidade  Quantidade  Preco_Unitario  Valor_Total\n",
       "0  2024-01-01       Mouse   Salvador           2          2897.0       5794.0\n",
       "1  2024-01-02  Impressora  São Paulo           2          1793.0       3586.0\n",
       "2  2024-01-03     Teclado  São Paulo           6          2185.0      13110.0\n",
       "3  2024-01-04  Impressora  São Paulo           7          2377.0      16639.0\n",
       "4  2024-01-05  Impressora  São Paulo           5           662.0       3310.0"
      ]
     },
     "execution_count": 74,
     "metadata": {},
     "output_type": "execute_result"
    }
   ],
   "source": [
    "df.head()"
   ]
  },
  {
   "cell_type": "code",
   "execution_count": 75,
   "id": "7d45ed7d",
   "metadata": {},
   "outputs": [
    {
     "data": {
      "text/plain": [
       "count     100.000000\n",
       "mean     1556.380000\n",
       "std       856.608851\n",
       "min       104.000000\n",
       "25%       795.250000\n",
       "50%      1602.000000\n",
       "75%      2382.750000\n",
       "max      2975.000000\n",
       "Name: Preco_Unitario, dtype: float64"
      ]
     },
     "execution_count": 75,
     "metadata": {},
     "output_type": "execute_result"
    }
   ],
   "source": [
    "df['Preco_Unitario'].describe()"
   ]
  },
  {
   "cell_type": "code",
   "execution_count": 79,
   "id": "effe47b7",
   "metadata": {},
   "outputs": [
    {
     "data": {
      "text/plain": [
       "Cidade\n",
       "Belo Horizonte    159273.0\n",
       "Curitiba          197624.0\n",
       "Rio de Janeiro     63763.0\n",
       "Salvador          107453.0\n",
       "São Paulo         178047.0\n",
       "Name: Valor_Total, dtype: float64"
      ]
     },
     "execution_count": 79,
     "metadata": {},
     "output_type": "execute_result"
    }
   ],
   "source": [
    "df.groupby('Cidade')['Valor_Total'].sum()"
   ]
  },
  {
   "cell_type": "code",
   "execution_count": null,
   "id": "056c75b7",
   "metadata": {},
   "outputs": [],
   "source": []
  }
 ],
 "metadata": {
  "kernelspec": {
   "display_name": "Python 3",
   "language": "python",
   "name": "python3"
  },
  "language_info": {
   "codemirror_mode": {
    "name": "ipython",
    "version": 3
   },
   "file_extension": ".py",
   "mimetype": "text/x-python",
   "name": "python",
   "nbconvert_exporter": "python",
   "pygments_lexer": "ipython3",
   "version": "3.13.5"
  }
 },
 "nbformat": 4,
 "nbformat_minor": 5
}
